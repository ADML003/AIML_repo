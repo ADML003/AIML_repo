{
  "cells": [
    {
      "cell_type": "markdown",
      "metadata": {
        "id": "view-in-github",
        "colab_type": "text"
      },
      "source": [
        "<a href=\"https://colab.research.google.com/github/ADML003/AIML_repo/blob/main/data_preprocessing_1.ipynb\" target=\"_parent\"><img src=\"https://colab.research.google.com/assets/colab-badge.svg\" alt=\"Open In Colab\"/></a>"
      ]
    },
    {
      "cell_type": "code",
      "execution_count": null,
      "metadata": {
        "ExecuteTime": {
          "end_time": "2020-04-08T17:42:55.107577Z",
          "start_time": "2020-04-08T17:42:55.102597Z"
        },
        "id": "yxGSbF_bbelW"
      },
      "outputs": [],
      "source": [
        "import pandas as pd\n",
        "import numpy as np\n",
        "import matplotlib.pyplot as plt\n",
        "import seaborn as sns\n",
        "%matplotlib inline"
      ]
    },
    {
      "cell_type": "code",
      "execution_count": null,
      "metadata": {
        "ExecuteTime": {
          "end_time": "2020-04-08T17:42:58.631162Z",
          "start_time": "2020-04-08T17:42:57.530483Z"
        },
        "id": "7OG890ixbelX"
      },
      "outputs": [],
      "source": [
        "df=pd.read_excel('EDA Cars-1.xlsx')"
      ]
    },
    {
      "cell_type": "code",
      "execution_count": null,
      "metadata": {
        "ExecuteTime": {
          "end_time": "2020-04-08T17:42:59.938189Z",
          "start_time": "2020-04-08T17:42:59.822520Z"
        },
        "id": "3ovMjs3nbelX",
        "outputId": "1815fe83-a034-4904-94be-e577c894a574"
      },
      "outputs": [
        {
          "data": {
            "text/html": [
              "<div>\n",
              "<style scoped>\n",
              "    .dataframe tbody tr th:only-of-type {\n",
              "        vertical-align: middle;\n",
              "    }\n",
              "\n",
              "    .dataframe tbody tr th {\n",
              "        vertical-align: top;\n",
              "    }\n",
              "\n",
              "    .dataframe thead th {\n",
              "        text-align: right;\n",
              "    }\n",
              "</style>\n",
              "<table border=\"1\" class=\"dataframe\">\n",
              "  <thead>\n",
              "    <tr style=\"text-align: right;\">\n",
              "      <th></th>\n",
              "      <th>INDEX</th>\n",
              "      <th>INCOME</th>\n",
              "      <th>MARITAL STATUS</th>\n",
              "      <th>SEX</th>\n",
              "      <th>EDUCATION</th>\n",
              "      <th>JOB</th>\n",
              "      <th>TRAVEL TIME</th>\n",
              "      <th>USE</th>\n",
              "      <th>MILES CLOCKED</th>\n",
              "      <th>CAR TYPE</th>\n",
              "      <th>CAR AGE</th>\n",
              "      <th>CITY</th>\n",
              "      <th>POSTAL CODE</th>\n",
              "    </tr>\n",
              "  </thead>\n",
              "  <tbody>\n",
              "    <tr>\n",
              "      <th>0</th>\n",
              "      <td>1</td>\n",
              "      <td>125301.24250</td>\n",
              "      <td>No</td>\n",
              "      <td>F</td>\n",
              "      <td>Bachelors</td>\n",
              "      <td>Blue Collar</td>\n",
              "      <td>45.703013</td>\n",
              "      <td>Commercial</td>\n",
              "      <td>17430.0</td>\n",
              "      <td>Sports Car</td>\n",
              "      <td>7.0</td>\n",
              "      <td>Texas</td>\n",
              "      <td>42420.0</td>\n",
              "    </tr>\n",
              "    <tr>\n",
              "      <th>1</th>\n",
              "      <td>2</td>\n",
              "      <td>50815.44531</td>\n",
              "      <td>No</td>\n",
              "      <td>M</td>\n",
              "      <td>High School</td>\n",
              "      <td>NaN</td>\n",
              "      <td>20.591628</td>\n",
              "      <td>Private</td>\n",
              "      <td>18930.0</td>\n",
              "      <td>Minivan</td>\n",
              "      <td>1.0</td>\n",
              "      <td>Texas</td>\n",
              "      <td>42420.0</td>\n",
              "    </tr>\n",
              "    <tr>\n",
              "      <th>2</th>\n",
              "      <td>3</td>\n",
              "      <td>62977.82416</td>\n",
              "      <td>NaN</td>\n",
              "      <td>F</td>\n",
              "      <td>Bachelors</td>\n",
              "      <td>Clerical</td>\n",
              "      <td>33.639949</td>\n",
              "      <td>Private</td>\n",
              "      <td>NaN</td>\n",
              "      <td>SUV</td>\n",
              "      <td>1.0</td>\n",
              "      <td>Texas</td>\n",
              "      <td>42420.0</td>\n",
              "    </tr>\n",
              "    <tr>\n",
              "      <th>3</th>\n",
              "      <td>4</td>\n",
              "      <td>77099.96624</td>\n",
              "      <td>No</td>\n",
              "      <td>F</td>\n",
              "      <td>NaN</td>\n",
              "      <td>Lawyer</td>\n",
              "      <td>15.415676</td>\n",
              "      <td>NaN</td>\n",
              "      <td>18300.0</td>\n",
              "      <td>Sports Car</td>\n",
              "      <td>11.0</td>\n",
              "      <td>Texas</td>\n",
              "      <td>42420.0</td>\n",
              "    </tr>\n",
              "    <tr>\n",
              "      <th>4</th>\n",
              "      <td>5</td>\n",
              "      <td>130794.57420</td>\n",
              "      <td>No</td>\n",
              "      <td>M</td>\n",
              "      <td>High School</td>\n",
              "      <td>NaN</td>\n",
              "      <td>NaN</td>\n",
              "      <td>Commercial</td>\n",
              "      <td>28340.0</td>\n",
              "      <td>Panel Truck</td>\n",
              "      <td>10.0</td>\n",
              "      <td>Texas</td>\n",
              "      <td>42420.0</td>\n",
              "    </tr>\n",
              "  </tbody>\n",
              "</table>\n",
              "</div>"
            ],
            "text/plain": [
              "   INDEX        INCOME MARITAL STATUS SEX    EDUCATION          JOB  \\\n",
              "0      1  125301.24250             No   F    Bachelors  Blue Collar   \n",
              "1      2   50815.44531             No   M  High School          NaN   \n",
              "2      3   62977.82416            NaN   F    Bachelors     Clerical   \n",
              "3      4   77099.96624             No   F          NaN       Lawyer   \n",
              "4      5  130794.57420             No   M  High School          NaN   \n",
              "\n",
              "   TRAVEL TIME         USE  MILES CLOCKED     CAR TYPE  CAR AGE   CITY  \\\n",
              "0    45.703013  Commercial        17430.0   Sports Car      7.0  Texas   \n",
              "1    20.591628     Private        18930.0      Minivan      1.0  Texas   \n",
              "2    33.639949     Private            NaN          SUV      1.0  Texas   \n",
              "3    15.415676         NaN        18300.0   Sports Car     11.0  Texas   \n",
              "4          NaN  Commercial        28340.0  Panel Truck     10.0  Texas   \n",
              "\n",
              "   POSTAL CODE  \n",
              "0      42420.0  \n",
              "1      42420.0  \n",
              "2      42420.0  \n",
              "3      42420.0  \n",
              "4      42420.0  "
            ]
          },
          "execution_count": 3,
          "metadata": {},
          "output_type": "execute_result"
        }
      ],
      "source": [
        "df.head()"
      ]
    },
    {
      "cell_type": "code",
      "execution_count": null,
      "metadata": {
        "ExecuteTime": {
          "end_time": "2020-04-08T17:43:01.021806Z",
          "start_time": "2020-04-08T17:43:01.017785Z"
        },
        "id": "Tb24zkS3belY",
        "outputId": "2966160c-26bc-4dbc-b85d-92bf0a1e00a4"
      },
      "outputs": [
        {
          "data": {
            "text/plain": [
              "(303, 13)"
            ]
          },
          "execution_count": 5,
          "metadata": {},
          "output_type": "execute_result"
        }
      ],
      "source": [
        "df.shape"
      ]
    },
    {
      "cell_type": "code",
      "execution_count": null,
      "metadata": {
        "ExecuteTime": {
          "end_time": "2020-04-08T17:43:02.056400Z",
          "start_time": "2020-04-08T17:43:02.044470Z"
        },
        "id": "wvPuhIoUbelZ",
        "outputId": "f82800e4-ea7f-41b8-fd52-e4f8be293379"
      },
      "outputs": [
        {
          "name": "stdout",
          "output_type": "stream",
          "text": [
            "<class 'pandas.core.frame.DataFrame'>\n",
            "RangeIndex: 303 entries, 0 to 302\n",
            "Data columns (total 13 columns):\n",
            " #   Column          Non-Null Count  Dtype  \n",
            "---  ------          --------------  -----  \n",
            " 0   INDEX           303 non-null    int64  \n",
            " 1   INCOME          260 non-null    float64\n",
            " 2   MARITAL STATUS  275 non-null    object \n",
            " 3   SEX             297 non-null    object \n",
            " 4   EDUCATION       259 non-null    object \n",
            " 5   JOB             257 non-null    object \n",
            " 6   TRAVEL TIME     262 non-null    float64\n",
            " 7   USE             250 non-null    object \n",
            " 8   MILES CLOCKED   278 non-null    float64\n",
            " 9   CAR TYPE        293 non-null    object \n",
            " 10  CAR AGE         283 non-null    float64\n",
            " 11  CITY            297 non-null    object \n",
            " 12  POSTAL CODE     300 non-null    float64\n",
            "dtypes: float64(5), int64(1), object(7)\n",
            "memory usage: 30.9+ KB\n"
          ]
        }
      ],
      "source": [
        "df.info()"
      ]
    },
    {
      "cell_type": "code",
      "execution_count": null,
      "metadata": {
        "id": "WRJuzP1PbelZ"
      },
      "outputs": [],
      "source": [
        "df[\"POSTAL CODE\"]= pd.Categorical(df['POSTAL CODE']) # Converting Postal Code into Category"
      ]
    },
    {
      "cell_type": "code",
      "execution_count": null,
      "metadata": {
        "id": "AsObombNbelZ",
        "outputId": "40adb91d-579e-4dfc-a59d-ab6960749cdb"
      },
      "outputs": [
        {
          "name": "stdout",
          "output_type": "stream",
          "text": [
            "<class 'pandas.core.frame.DataFrame'>\n",
            "RangeIndex: 303 entries, 0 to 302\n",
            "Data columns (total 13 columns):\n",
            " #   Column          Non-Null Count  Dtype   \n",
            "---  ------          --------------  -----   \n",
            " 0   INDEX           303 non-null    int64   \n",
            " 1   INCOME          260 non-null    float64 \n",
            " 2   MARITAL STATUS  275 non-null    object  \n",
            " 3   SEX             297 non-null    object  \n",
            " 4   EDUCATION       259 non-null    object  \n",
            " 5   JOB             257 non-null    object  \n",
            " 6   TRAVEL TIME     262 non-null    float64 \n",
            " 7   USE             250 non-null    object  \n",
            " 8   MILES CLOCKED   278 non-null    float64 \n",
            " 9   CAR TYPE        293 non-null    object  \n",
            " 10  CAR AGE         283 non-null    float64 \n",
            " 11  CITY            297 non-null    object  \n",
            " 12  POSTAL CODE     300 non-null    category\n",
            "dtypes: category(1), float64(4), int64(1), object(7)\n",
            "memory usage: 29.2+ KB\n"
          ]
        }
      ],
      "source": [
        "df.info()"
      ]
    },
    {
      "cell_type": "code",
      "execution_count": null,
      "metadata": {
        "id": "M1gKh1d6bela",
        "outputId": "6a25bcef-afb7-4d21-f8d8-ac9a823a26ea"
      },
      "outputs": [
        {
          "data": {
            "text/html": [
              "<div>\n",
              "<style scoped>\n",
              "    .dataframe tbody tr th:only-of-type {\n",
              "        vertical-align: middle;\n",
              "    }\n",
              "\n",
              "    .dataframe tbody tr th {\n",
              "        vertical-align: top;\n",
              "    }\n",
              "\n",
              "    .dataframe thead th {\n",
              "        text-align: right;\n",
              "    }\n",
              "</style>\n",
              "<table border=\"1\" class=\"dataframe\">\n",
              "  <thead>\n",
              "    <tr style=\"text-align: right;\">\n",
              "      <th></th>\n",
              "      <th>INDEX</th>\n",
              "      <th>INCOME</th>\n",
              "      <th>MARITAL STATUS</th>\n",
              "      <th>SEX</th>\n",
              "      <th>EDUCATION</th>\n",
              "      <th>JOB</th>\n",
              "      <th>TRAVEL TIME</th>\n",
              "      <th>USE</th>\n",
              "      <th>MILES CLOCKED</th>\n",
              "      <th>CAR TYPE</th>\n",
              "      <th>CAR AGE</th>\n",
              "      <th>CITY</th>\n",
              "      <th>POSTAL CODE</th>\n",
              "    </tr>\n",
              "  </thead>\n",
              "  <tbody>\n",
              "    <tr>\n",
              "      <th>0</th>\n",
              "      <td>1</td>\n",
              "      <td>125301.24250</td>\n",
              "      <td>No</td>\n",
              "      <td>F</td>\n",
              "      <td>Bachelors</td>\n",
              "      <td>Blue Collar</td>\n",
              "      <td>45.703013</td>\n",
              "      <td>Commercial</td>\n",
              "      <td>17430.0</td>\n",
              "      <td>Sports Car</td>\n",
              "      <td>7.0</td>\n",
              "      <td>Texas</td>\n",
              "      <td>42420.0</td>\n",
              "    </tr>\n",
              "    <tr>\n",
              "      <th>1</th>\n",
              "      <td>2</td>\n",
              "      <td>50815.44531</td>\n",
              "      <td>No</td>\n",
              "      <td>M</td>\n",
              "      <td>High School</td>\n",
              "      <td>NaN</td>\n",
              "      <td>20.591628</td>\n",
              "      <td>Private</td>\n",
              "      <td>18930.0</td>\n",
              "      <td>Minivan</td>\n",
              "      <td>1.0</td>\n",
              "      <td>Texas</td>\n",
              "      <td>42420.0</td>\n",
              "    </tr>\n",
              "    <tr>\n",
              "      <th>2</th>\n",
              "      <td>3</td>\n",
              "      <td>62977.82416</td>\n",
              "      <td>NaN</td>\n",
              "      <td>F</td>\n",
              "      <td>Bachelors</td>\n",
              "      <td>Clerical</td>\n",
              "      <td>33.639949</td>\n",
              "      <td>Private</td>\n",
              "      <td>NaN</td>\n",
              "      <td>SUV</td>\n",
              "      <td>1.0</td>\n",
              "      <td>Texas</td>\n",
              "      <td>42420.0</td>\n",
              "    </tr>\n",
              "    <tr>\n",
              "      <th>3</th>\n",
              "      <td>4</td>\n",
              "      <td>77099.96624</td>\n",
              "      <td>No</td>\n",
              "      <td>F</td>\n",
              "      <td>NaN</td>\n",
              "      <td>Lawyer</td>\n",
              "      <td>15.415676</td>\n",
              "      <td>NaN</td>\n",
              "      <td>18300.0</td>\n",
              "      <td>Sports Car</td>\n",
              "      <td>11.0</td>\n",
              "      <td>Texas</td>\n",
              "      <td>42420.0</td>\n",
              "    </tr>\n",
              "    <tr>\n",
              "      <th>4</th>\n",
              "      <td>5</td>\n",
              "      <td>130794.57420</td>\n",
              "      <td>No</td>\n",
              "      <td>M</td>\n",
              "      <td>High School</td>\n",
              "      <td>NaN</td>\n",
              "      <td>NaN</td>\n",
              "      <td>Commercial</td>\n",
              "      <td>28340.0</td>\n",
              "      <td>Panel Truck</td>\n",
              "      <td>10.0</td>\n",
              "      <td>Texas</td>\n",
              "      <td>42420.0</td>\n",
              "    </tr>\n",
              "  </tbody>\n",
              "</table>\n",
              "</div>"
            ],
            "text/plain": [
              "   INDEX        INCOME MARITAL STATUS SEX    EDUCATION          JOB  \\\n",
              "0      1  125301.24250             No   F    Bachelors  Blue Collar   \n",
              "1      2   50815.44531             No   M  High School          NaN   \n",
              "2      3   62977.82416            NaN   F    Bachelors     Clerical   \n",
              "3      4   77099.96624             No   F          NaN       Lawyer   \n",
              "4      5  130794.57420             No   M  High School          NaN   \n",
              "\n",
              "   TRAVEL TIME         USE  MILES CLOCKED     CAR TYPE  CAR AGE   CITY  \\\n",
              "0    45.703013  Commercial        17430.0   Sports Car      7.0  Texas   \n",
              "1    20.591628     Private        18930.0      Minivan      1.0  Texas   \n",
              "2    33.639949     Private            NaN          SUV      1.0  Texas   \n",
              "3    15.415676         NaN        18300.0   Sports Car     11.0  Texas   \n",
              "4          NaN  Commercial        28340.0  Panel Truck     10.0  Texas   \n",
              "\n",
              "  POSTAL CODE  \n",
              "0     42420.0  \n",
              "1     42420.0  \n",
              "2     42420.0  \n",
              "3     42420.0  \n",
              "4     42420.0  "
            ]
          },
          "execution_count": 9,
          "metadata": {},
          "output_type": "execute_result"
        }
      ],
      "source": [
        "df.head()"
      ]
    },
    {
      "cell_type": "code",
      "execution_count": null,
      "metadata": {
        "ExecuteTime": {
          "end_time": "2020-04-08T17:43:03.102441Z",
          "start_time": "2020-04-08T17:43:03.078505Z"
        },
        "id": "v3VAtWzEbela",
        "outputId": "19b1ac9b-a525-4c5f-da67-52500bb55ff2"
      },
      "outputs": [
        {
          "data": {
            "text/html": [
              "<div>\n",
              "<style scoped>\n",
              "    .dataframe tbody tr th:only-of-type {\n",
              "        vertical-align: middle;\n",
              "    }\n",
              "\n",
              "    .dataframe tbody tr th {\n",
              "        vertical-align: top;\n",
              "    }\n",
              "\n",
              "    .dataframe thead th {\n",
              "        text-align: right;\n",
              "    }\n",
              "</style>\n",
              "<table border=\"1\" class=\"dataframe\">\n",
              "  <thead>\n",
              "    <tr style=\"text-align: right;\">\n",
              "      <th></th>\n",
              "      <th>INDEX</th>\n",
              "      <th>INCOME</th>\n",
              "      <th>TRAVEL TIME</th>\n",
              "      <th>MILES CLOCKED</th>\n",
              "      <th>CAR AGE</th>\n",
              "    </tr>\n",
              "  </thead>\n",
              "  <tbody>\n",
              "    <tr>\n",
              "      <th>count</th>\n",
              "      <td>303.000000</td>\n",
              "      <td>260.000000</td>\n",
              "      <td>262.000000</td>\n",
              "      <td>278.000000</td>\n",
              "      <td>283.000000</td>\n",
              "    </tr>\n",
              "    <tr>\n",
              "      <th>mean</th>\n",
              "      <td>139.640264</td>\n",
              "      <td>50025.162170</td>\n",
              "      <td>34.282098</td>\n",
              "      <td>13591.978417</td>\n",
              "      <td>6.265018</td>\n",
              "    </tr>\n",
              "    <tr>\n",
              "      <th>std</th>\n",
              "      <td>85.178422</td>\n",
              "      <td>41186.807914</td>\n",
              "      <td>14.910178</td>\n",
              "      <td>7167.328655</td>\n",
              "      <td>5.111218</td>\n",
              "    </tr>\n",
              "    <tr>\n",
              "      <th>min</th>\n",
              "      <td>1.000000</td>\n",
              "      <td>0.000000</td>\n",
              "      <td>5.000000</td>\n",
              "      <td>1500.000000</td>\n",
              "      <td>1.000000</td>\n",
              "    </tr>\n",
              "    <tr>\n",
              "      <th>25%</th>\n",
              "      <td>62.500000</td>\n",
              "      <td>20452.885023</td>\n",
              "      <td>24.449874</td>\n",
              "      <td>7900.000000</td>\n",
              "      <td>1.000000</td>\n",
              "    </tr>\n",
              "    <tr>\n",
              "      <th>50%</th>\n",
              "      <td>138.000000</td>\n",
              "      <td>44571.590870</td>\n",
              "      <td>33.564757</td>\n",
              "      <td>12065.000000</td>\n",
              "      <td>6.000000</td>\n",
              "    </tr>\n",
              "    <tr>\n",
              "      <th>75%</th>\n",
              "      <td>213.500000</td>\n",
              "      <td>66485.761387</td>\n",
              "      <td>43.907339</td>\n",
              "      <td>18240.000000</td>\n",
              "      <td>10.000000</td>\n",
              "    </tr>\n",
              "    <tr>\n",
              "      <th>max</th>\n",
              "      <td>289.000000</td>\n",
              "      <td>204667.589700</td>\n",
              "      <td>83.617643</td>\n",
              "      <td>38000.000000</td>\n",
              "      <td>20.000000</td>\n",
              "    </tr>\n",
              "  </tbody>\n",
              "</table>\n",
              "</div>"
            ],
            "text/plain": [
              "            INDEX         INCOME  TRAVEL TIME  MILES CLOCKED     CAR AGE\n",
              "count  303.000000     260.000000   262.000000     278.000000  283.000000\n",
              "mean   139.640264   50025.162170    34.282098   13591.978417    6.265018\n",
              "std     85.178422   41186.807914    14.910178    7167.328655    5.111218\n",
              "min      1.000000       0.000000     5.000000    1500.000000    1.000000\n",
              "25%     62.500000   20452.885023    24.449874    7900.000000    1.000000\n",
              "50%    138.000000   44571.590870    33.564757   12065.000000    6.000000\n",
              "75%    213.500000   66485.761387    43.907339   18240.000000   10.000000\n",
              "max    289.000000  204667.589700    83.617643   38000.000000   20.000000"
            ]
          },
          "execution_count": 10,
          "metadata": {},
          "output_type": "execute_result"
        }
      ],
      "source": [
        "df.describe()"
      ]
    },
    {
      "cell_type": "code",
      "execution_count": null,
      "metadata": {
        "ExecuteTime": {
          "end_time": "2020-04-08T17:43:04.573449Z",
          "start_time": "2020-04-08T17:43:04.551522Z"
        },
        "id": "lyd27j-0belb",
        "outputId": "d1ecc6eb-8fb7-4413-f52c-a44438c671c5"
      },
      "outputs": [
        {
          "name": "stdout",
          "output_type": "stream",
          "text": [
            "Number of duplicate rows = 14\n"
          ]
        },
        {
          "data": {
            "text/html": [
              "<div>\n",
              "<style scoped>\n",
              "    .dataframe tbody tr th:only-of-type {\n",
              "        vertical-align: middle;\n",
              "    }\n",
              "\n",
              "    .dataframe tbody tr th {\n",
              "        vertical-align: top;\n",
              "    }\n",
              "\n",
              "    .dataframe thead th {\n",
              "        text-align: right;\n",
              "    }\n",
              "</style>\n",
              "<table border=\"1\" class=\"dataframe\">\n",
              "  <thead>\n",
              "    <tr style=\"text-align: right;\">\n",
              "      <th></th>\n",
              "      <th>INDEX</th>\n",
              "      <th>INCOME</th>\n",
              "      <th>MARITAL STATUS</th>\n",
              "      <th>SEX</th>\n",
              "      <th>EDUCATION</th>\n",
              "      <th>JOB</th>\n",
              "      <th>TRAVEL TIME</th>\n",
              "      <th>USE</th>\n",
              "      <th>MILES CLOCKED</th>\n",
              "      <th>CAR TYPE</th>\n",
              "      <th>CAR AGE</th>\n",
              "      <th>CITY</th>\n",
              "      <th>POSTAL CODE</th>\n",
              "    </tr>\n",
              "  </thead>\n",
              "  <tbody>\n",
              "    <tr>\n",
              "      <th>69</th>\n",
              "      <td>29</td>\n",
              "      <td>64013.81632</td>\n",
              "      <td>Yes</td>\n",
              "      <td>M</td>\n",
              "      <td>High School</td>\n",
              "      <td>Blue Collar</td>\n",
              "      <td>32.717234</td>\n",
              "      <td>Commercial</td>\n",
              "      <td>7900.0</td>\n",
              "      <td>Pickup</td>\n",
              "      <td>5.0</td>\n",
              "      <td>Los Angeles</td>\n",
              "      <td>90049.0</td>\n",
              "    </tr>\n",
              "    <tr>\n",
              "      <th>70</th>\n",
              "      <td>29</td>\n",
              "      <td>64013.81632</td>\n",
              "      <td>Yes</td>\n",
              "      <td>M</td>\n",
              "      <td>High School</td>\n",
              "      <td>Blue Collar</td>\n",
              "      <td>32.717234</td>\n",
              "      <td>Commercial</td>\n",
              "      <td>7900.0</td>\n",
              "      <td>Pickup</td>\n",
              "      <td>5.0</td>\n",
              "      <td>Los Angeles</td>\n",
              "      <td>90049.0</td>\n",
              "    </tr>\n",
              "    <tr>\n",
              "      <th>71</th>\n",
              "      <td>29</td>\n",
              "      <td>64013.81632</td>\n",
              "      <td>Yes</td>\n",
              "      <td>M</td>\n",
              "      <td>High School</td>\n",
              "      <td>Blue Collar</td>\n",
              "      <td>32.717234</td>\n",
              "      <td>Commercial</td>\n",
              "      <td>7900.0</td>\n",
              "      <td>Pickup</td>\n",
              "      <td>5.0</td>\n",
              "      <td>Los Angeles</td>\n",
              "      <td>90049.0</td>\n",
              "    </tr>\n",
              "    <tr>\n",
              "      <th>72</th>\n",
              "      <td>29</td>\n",
              "      <td>64013.81632</td>\n",
              "      <td>Yes</td>\n",
              "      <td>M</td>\n",
              "      <td>High School</td>\n",
              "      <td>Blue Collar</td>\n",
              "      <td>32.717234</td>\n",
              "      <td>Commercial</td>\n",
              "      <td>7900.0</td>\n",
              "      <td>Pickup</td>\n",
              "      <td>5.0</td>\n",
              "      <td>Los Angeles</td>\n",
              "      <td>90049.0</td>\n",
              "    </tr>\n",
              "    <tr>\n",
              "      <th>73</th>\n",
              "      <td>29</td>\n",
              "      <td>64013.81632</td>\n",
              "      <td>Yes</td>\n",
              "      <td>M</td>\n",
              "      <td>High School</td>\n",
              "      <td>Blue Collar</td>\n",
              "      <td>32.717234</td>\n",
              "      <td>Commercial</td>\n",
              "      <td>7900.0</td>\n",
              "      <td>Pickup</td>\n",
              "      <td>5.0</td>\n",
              "      <td>Los Angeles</td>\n",
              "      <td>90049.0</td>\n",
              "    </tr>\n",
              "    <tr>\n",
              "      <th>74</th>\n",
              "      <td>29</td>\n",
              "      <td>64013.81632</td>\n",
              "      <td>Yes</td>\n",
              "      <td>M</td>\n",
              "      <td>High School</td>\n",
              "      <td>Blue Collar</td>\n",
              "      <td>32.717234</td>\n",
              "      <td>Commercial</td>\n",
              "      <td>7900.0</td>\n",
              "      <td>Pickup</td>\n",
              "      <td>5.0</td>\n",
              "      <td>Los Angeles</td>\n",
              "      <td>90049.0</td>\n",
              "    </tr>\n",
              "    <tr>\n",
              "      <th>75</th>\n",
              "      <td>29</td>\n",
              "      <td>64013.81632</td>\n",
              "      <td>Yes</td>\n",
              "      <td>M</td>\n",
              "      <td>High School</td>\n",
              "      <td>Blue Collar</td>\n",
              "      <td>32.717234</td>\n",
              "      <td>Commercial</td>\n",
              "      <td>7900.0</td>\n",
              "      <td>Pickup</td>\n",
              "      <td>5.0</td>\n",
              "      <td>Los Angeles</td>\n",
              "      <td>90049.0</td>\n",
              "    </tr>\n",
              "    <tr>\n",
              "      <th>76</th>\n",
              "      <td>29</td>\n",
              "      <td>64013.81632</td>\n",
              "      <td>Yes</td>\n",
              "      <td>M</td>\n",
              "      <td>High School</td>\n",
              "      <td>Blue Collar</td>\n",
              "      <td>32.717234</td>\n",
              "      <td>Commercial</td>\n",
              "      <td>7900.0</td>\n",
              "      <td>Pickup</td>\n",
              "      <td>5.0</td>\n",
              "      <td>Los Angeles</td>\n",
              "      <td>90049.0</td>\n",
              "    </tr>\n",
              "    <tr>\n",
              "      <th>77</th>\n",
              "      <td>29</td>\n",
              "      <td>64013.81632</td>\n",
              "      <td>Yes</td>\n",
              "      <td>M</td>\n",
              "      <td>High School</td>\n",
              "      <td>Blue Collar</td>\n",
              "      <td>32.717234</td>\n",
              "      <td>Commercial</td>\n",
              "      <td>7900.0</td>\n",
              "      <td>Pickup</td>\n",
              "      <td>5.0</td>\n",
              "      <td>Los Angeles</td>\n",
              "      <td>90049.0</td>\n",
              "    </tr>\n",
              "    <tr>\n",
              "      <th>78</th>\n",
              "      <td>29</td>\n",
              "      <td>64013.81632</td>\n",
              "      <td>Yes</td>\n",
              "      <td>M</td>\n",
              "      <td>High School</td>\n",
              "      <td>Blue Collar</td>\n",
              "      <td>32.717234</td>\n",
              "      <td>Commercial</td>\n",
              "      <td>7900.0</td>\n",
              "      <td>Pickup</td>\n",
              "      <td>5.0</td>\n",
              "      <td>Los Angeles</td>\n",
              "      <td>90049.0</td>\n",
              "    </tr>\n",
              "    <tr>\n",
              "      <th>79</th>\n",
              "      <td>29</td>\n",
              "      <td>64013.81632</td>\n",
              "      <td>Yes</td>\n",
              "      <td>M</td>\n",
              "      <td>High School</td>\n",
              "      <td>Blue Collar</td>\n",
              "      <td>32.717234</td>\n",
              "      <td>Commercial</td>\n",
              "      <td>7900.0</td>\n",
              "      <td>Pickup</td>\n",
              "      <td>5.0</td>\n",
              "      <td>Los Angeles</td>\n",
              "      <td>90049.0</td>\n",
              "    </tr>\n",
              "    <tr>\n",
              "      <th>80</th>\n",
              "      <td>29</td>\n",
              "      <td>64013.81632</td>\n",
              "      <td>Yes</td>\n",
              "      <td>M</td>\n",
              "      <td>High School</td>\n",
              "      <td>Blue Collar</td>\n",
              "      <td>32.717234</td>\n",
              "      <td>Commercial</td>\n",
              "      <td>7900.0</td>\n",
              "      <td>Pickup</td>\n",
              "      <td>5.0</td>\n",
              "      <td>Los Angeles</td>\n",
              "      <td>90049.0</td>\n",
              "    </tr>\n",
              "    <tr>\n",
              "      <th>81</th>\n",
              "      <td>29</td>\n",
              "      <td>64013.81632</td>\n",
              "      <td>Yes</td>\n",
              "      <td>M</td>\n",
              "      <td>High School</td>\n",
              "      <td>Blue Collar</td>\n",
              "      <td>32.717234</td>\n",
              "      <td>Commercial</td>\n",
              "      <td>7900.0</td>\n",
              "      <td>Pickup</td>\n",
              "      <td>5.0</td>\n",
              "      <td>Los Angeles</td>\n",
              "      <td>90049.0</td>\n",
              "    </tr>\n",
              "    <tr>\n",
              "      <th>82</th>\n",
              "      <td>29</td>\n",
              "      <td>64013.81632</td>\n",
              "      <td>Yes</td>\n",
              "      <td>M</td>\n",
              "      <td>High School</td>\n",
              "      <td>Blue Collar</td>\n",
              "      <td>32.717234</td>\n",
              "      <td>Commercial</td>\n",
              "      <td>7900.0</td>\n",
              "      <td>Pickup</td>\n",
              "      <td>5.0</td>\n",
              "      <td>Los Angeles</td>\n",
              "      <td>90049.0</td>\n",
              "    </tr>\n",
              "  </tbody>\n",
              "</table>\n",
              "</div>"
            ],
            "text/plain": [
              "    INDEX       INCOME MARITAL STATUS SEX    EDUCATION          JOB  \\\n",
              "69     29  64013.81632            Yes   M  High School  Blue Collar   \n",
              "70     29  64013.81632            Yes   M  High School  Blue Collar   \n",
              "71     29  64013.81632            Yes   M  High School  Blue Collar   \n",
              "72     29  64013.81632            Yes   M  High School  Blue Collar   \n",
              "73     29  64013.81632            Yes   M  High School  Blue Collar   \n",
              "74     29  64013.81632            Yes   M  High School  Blue Collar   \n",
              "75     29  64013.81632            Yes   M  High School  Blue Collar   \n",
              "76     29  64013.81632            Yes   M  High School  Blue Collar   \n",
              "77     29  64013.81632            Yes   M  High School  Blue Collar   \n",
              "78     29  64013.81632            Yes   M  High School  Blue Collar   \n",
              "79     29  64013.81632            Yes   M  High School  Blue Collar   \n",
              "80     29  64013.81632            Yes   M  High School  Blue Collar   \n",
              "81     29  64013.81632            Yes   M  High School  Blue Collar   \n",
              "82     29  64013.81632            Yes   M  High School  Blue Collar   \n",
              "\n",
              "    TRAVEL TIME         USE  MILES CLOCKED CAR TYPE  CAR AGE         CITY  \\\n",
              "69    32.717234  Commercial         7900.0   Pickup      5.0  Los Angeles   \n",
              "70    32.717234  Commercial         7900.0   Pickup      5.0  Los Angeles   \n",
              "71    32.717234  Commercial         7900.0   Pickup      5.0  Los Angeles   \n",
              "72    32.717234  Commercial         7900.0   Pickup      5.0  Los Angeles   \n",
              "73    32.717234  Commercial         7900.0   Pickup      5.0  Los Angeles   \n",
              "74    32.717234  Commercial         7900.0   Pickup      5.0  Los Angeles   \n",
              "75    32.717234  Commercial         7900.0   Pickup      5.0  Los Angeles   \n",
              "76    32.717234  Commercial         7900.0   Pickup      5.0  Los Angeles   \n",
              "77    32.717234  Commercial         7900.0   Pickup      5.0  Los Angeles   \n",
              "78    32.717234  Commercial         7900.0   Pickup      5.0  Los Angeles   \n",
              "79    32.717234  Commercial         7900.0   Pickup      5.0  Los Angeles   \n",
              "80    32.717234  Commercial         7900.0   Pickup      5.0  Los Angeles   \n",
              "81    32.717234  Commercial         7900.0   Pickup      5.0  Los Angeles   \n",
              "82    32.717234  Commercial         7900.0   Pickup      5.0  Los Angeles   \n",
              "\n",
              "   POSTAL CODE  \n",
              "69     90049.0  \n",
              "70     90049.0  \n",
              "71     90049.0  \n",
              "72     90049.0  \n",
              "73     90049.0  \n",
              "74     90049.0  \n",
              "75     90049.0  \n",
              "76     90049.0  \n",
              "77     90049.0  \n",
              "78     90049.0  \n",
              "79     90049.0  \n",
              "80     90049.0  \n",
              "81     90049.0  \n",
              "82     90049.0  "
            ]
          },
          "execution_count": 12,
          "metadata": {},
          "output_type": "execute_result"
        }
      ],
      "source": [
        "dups = df.duplicated()\n",
        "print('Number of duplicate rows = %d' % (dups.sum()))\n",
        "\n",
        "df[dups]"
      ]
    },
    {
      "cell_type": "code",
      "execution_count": null,
      "metadata": {
        "ExecuteTime": {
          "end_time": "2020-04-08T17:43:05.593735Z",
          "start_time": "2020-04-08T17:43:05.581812Z"
        },
        "id": "HI9ISGXQbelb"
      },
      "outputs": [],
      "source": [
        "df.drop_duplicates(inplace=True)"
      ]
    },
    {
      "cell_type": "code",
      "execution_count": null,
      "metadata": {
        "ExecuteTime": {
          "end_time": "2020-04-08T17:43:06.553875Z",
          "start_time": "2020-04-08T17:43:06.537920Z"
        },
        "id": "gUxQbElnbelc",
        "outputId": "2b3ce11d-f71d-4657-aaae-bc1f6fe88eb7"
      },
      "outputs": [
        {
          "name": "stdout",
          "output_type": "stream",
          "text": [
            "Number of duplicate rows = 0\n"
          ]
        },
        {
          "data": {
            "text/html": [
              "<div>\n",
              "<style scoped>\n",
              "    .dataframe tbody tr th:only-of-type {\n",
              "        vertical-align: middle;\n",
              "    }\n",
              "\n",
              "    .dataframe tbody tr th {\n",
              "        vertical-align: top;\n",
              "    }\n",
              "\n",
              "    .dataframe thead th {\n",
              "        text-align: right;\n",
              "    }\n",
              "</style>\n",
              "<table border=\"1\" class=\"dataframe\">\n",
              "  <thead>\n",
              "    <tr style=\"text-align: right;\">\n",
              "      <th></th>\n",
              "      <th>INDEX</th>\n",
              "      <th>INCOME</th>\n",
              "      <th>MARITAL STATUS</th>\n",
              "      <th>SEX</th>\n",
              "      <th>EDUCATION</th>\n",
              "      <th>JOB</th>\n",
              "      <th>TRAVEL TIME</th>\n",
              "      <th>USE</th>\n",
              "      <th>MILES CLOCKED</th>\n",
              "      <th>CAR TYPE</th>\n",
              "      <th>CAR AGE</th>\n",
              "      <th>CITY</th>\n",
              "      <th>POSTAL CODE</th>\n",
              "    </tr>\n",
              "  </thead>\n",
              "  <tbody>\n",
              "  </tbody>\n",
              "</table>\n",
              "</div>"
            ],
            "text/plain": [
              "Empty DataFrame\n",
              "Columns: [INDEX, INCOME, MARITAL STATUS, SEX, EDUCATION, JOB, TRAVEL TIME, USE, MILES CLOCKED, CAR TYPE, CAR AGE, CITY, POSTAL CODE]\n",
              "Index: []"
            ]
          },
          "execution_count": 14,
          "metadata": {},
          "output_type": "execute_result"
        }
      ],
      "source": [
        "# Check for duplicate data\n",
        "\n",
        "dups = df.duplicated()\n",
        "print('Number of duplicate rows = %d' % (dups.sum()))\n",
        "\n",
        "df[dups]"
      ]
    },
    {
      "cell_type": "code",
      "execution_count": null,
      "metadata": {
        "ExecuteTime": {
          "end_time": "2020-04-08T17:43:07.511247Z",
          "start_time": "2020-04-08T17:43:07.507265Z"
        },
        "id": "Bvyq-zDqbelc",
        "outputId": "9dd32681-3aec-4d0a-fca2-c97b570415ad"
      },
      "outputs": [
        {
          "data": {
            "text/plain": [
              "(289, 13)"
            ]
          },
          "execution_count": 15,
          "metadata": {},
          "output_type": "execute_result"
        }
      ],
      "source": [
        "df.shape"
      ]
    },
    {
      "cell_type": "code",
      "execution_count": null,
      "metadata": {
        "id": "A-aq4IK8belc"
      },
      "outputs": [],
      "source": [
        "df.drop('INDEX', axis=1, inplace=True)"
      ]
    },
    {
      "cell_type": "code",
      "execution_count": null,
      "metadata": {
        "ExecuteTime": {
          "end_time": "2020-04-08T17:43:09.015194Z",
          "start_time": "2020-04-08T17:43:08.445798Z"
        },
        "id": "Iqpp6_lcbeld",
        "outputId": "83d77ea5-39c6-4e4e-ded6-1680380984f6"
      },
      "outputs": [
        {
          "data": {
            "image/png": "[encoded data removed]",
            "text/plain": [
              "<Figure size 432x288 with 1 Axes>"
            ]
          },
          "metadata": {
            "needs_background": "light"
          },
          "output_type": "display_data"
        }
      ],
      "source": [
        "df.boxplot(column=['INCOME', 'TRAVEL TIME'])\n",
        "plt.show()\n"
      ]
    },
    {
      "cell_type": "code",
      "execution_count": null,
      "metadata": {
        "ExecuteTime": {
          "end_time": "2020-04-08T17:43:09.220949Z",
          "start_time": "2020-04-08T17:43:09.126393Z"
        },
        "scrolled": true,
        "id": "mfpTG-1rbeld",
        "outputId": "ab234d57-fb40-4d04-d651-c427c5bc8457"
      },
      "outputs": [
        {
          "data": {
            "image/png": "[encoded data removed]",
            "text/plain": [
              "<Figure size 432x288 with 1 Axes>"
            ]
          },
          "metadata": {
            "needs_background": "light"
          },
          "output_type": "display_data"
        }
      ],
      "source": [
        "df.boxplot(column=['TRAVEL TIME'])\n",
        "plt.show()"
      ]
    },
    {
      "cell_type": "code",
      "execution_count": null,
      "metadata": {
        "ExecuteTime": {
          "end_time": "2020-04-08T17:43:09.619602Z",
          "start_time": "2020-04-08T17:43:09.518443Z"
        },
        "id": "5DQKLwTybeld",
        "outputId": "84a63a2c-76c2-4c9d-c690-a39494427e70"
      },
      "outputs": [
        {
          "data": {
            "image/png": "[encoded data removed]",
            "text/plain": [
              "<Figure size 432x288 with 1 Axes>"
            ]
          },
          "metadata": {
            "needs_background": "light"
          },
          "output_type": "display_data"
        }
      ],
      "source": [
        "df.boxplot(column=['CAR AGE'])\n",
        "plt.show()"
      ]
    },
    {
      "cell_type": "code",
      "execution_count": null,
      "metadata": {
        "ExecuteTime": {
          "end_time": "2020-04-08T17:43:10.152434Z",
          "start_time": "2020-04-08T17:43:10.052701Z"
        },
        "id": "Jr3KwfBkbeld",
        "outputId": "9472b875-5075-4dc8-fd84-9905a8697d06"
      },
      "outputs": [
        {
          "data": {
            "image/png": "[encoded data removed]",
            "text/plain": [
              "<Figure size 432x288 with 1 Axes>"
            ]
          },
          "metadata": {
            "needs_background": "light"
          },
          "output_type": "display_data"
        }
      ],
      "source": [
        "df.boxplot(column=['MILES CLOCKED'])\n",
        "plt.show()"
      ]
    },
    {
      "cell_type": "code",
      "execution_count": null,
      "metadata": {
        "ExecuteTime": {
          "end_time": "2020-04-08T17:43:12.135431Z",
          "start_time": "2020-04-08T17:43:12.127452Z"
        },
        "id": "eh2La9yabele"
      },
      "outputs": [],
      "source": [
        "def remove_outlier(col):\n",
        "    sorted(col)\n",
        "    Q1,Q3=col.quantile([0.25,0.75])\n",
        "    IQR=Q3-Q1\n",
        "    lower_range= Q1-(1.5 * IQR)\n",
        "    upper_range= Q3+(1.5 * IQR)\n",
        "    return lower_range, upper_range"
      ]
    }
  ],
  "metadata": {
    "kernelspec": {
      "display_name": "Python 3",
      "language": "python",
      "name": "python3"
    },
    "language_info": {
      "codemirror_mode": {
        "name": "ipython",
        "version": 3
      },
      "file_extension": ".py",
      "mimetype": "text/x-python",
      "name": "python",
      "nbconvert_exporter": "python",
      "pygments_lexer": "ipython3",
      "version": "3.8.8"
    },
    "toc": {
      "base_numbering": 1,
      "nav_menu": {},
      "number_sections": true,
      "sideBar": true,
      "skip_h1_title": false,
      "title_cell": "Table of Contents",
      "title_sidebar": "Contents",
      "toc_cell": false,
      "toc_position": {},
      "toc_section_display": true,
      "toc_window_display": false
    },
    "varInspector": {
      "cols": {
        "lenName": 16,
        "lenType": 16,
        "lenVar": 40
      },
      "kernels_config": {
        "python": {
          "delete_cmd_postfix": "",
          "delete_cmd_prefix": "del ",
          "library": "var_list.py",
          "varRefreshCmd": "print(var_dic_list())"
        },
        "r": {
          "delete_cmd_postfix": ") ",
          "delete_cmd_prefix": "rm(",
          "library": "var_list.r",
          "varRefreshCmd": "cat(var_dic_list()) "
        }
      },
      "types_to_exclude": [
        "module",
        "function",
        "builtin_function_or_method",
        "instance",
        "_Feature"
      ],
      "window_display": false
    },
    "colab": {
      "provenance": [],
      "include_colab_link": true
    }
  },
  "nbformat": 4,
  "nbformat_minor": 0
}